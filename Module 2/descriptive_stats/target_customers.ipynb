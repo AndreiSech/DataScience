{
 "cells": [
  {
   "cell_type": "markdown",
   "metadata": {
    "collapsed": true,
    "pycharm": {
     "name": "#%%\n"
    }
   },
   "source": [
    "# Математические Основы Data Science и EDA"
   ]
  },
  {
   "cell_type": "markdown",
   "metadata": {},
   "source": [
    "## 1 Часть"
   ]
  },
  {
   "cell_type": "markdown",
   "metadata": {},
   "source": [
    "Задание: посмотреть на данные, посмотреть на названия колонок, посмотреть на типы данных для каждой колонки.\n",
    "В файле clients.csv предоставленна информация о клиентах риэлторской компании США за один месяц. Вам необходимо сделать следующее:\n",
    "Используя данные о выборке, постройте типичный портрет целевого клиента компании (пол, возраст, какой тип квартиры он приобретает, какова площадь в кв. м , каков средний чек, цель покупки, источник лида (колонка Source).\n",
    "Таким образом результат анализа - небольшое описание нашего целевого клиента с соответствующими визуализациями"
   ]
  },
  {
   "cell_type": "code",
   "execution_count": 168,
   "metadata": {},
   "outputs": [],
   "source": [
    "import numpy as np\n",
    "import pandas as pd\n",
    "import seaborn as sns\n",
    "import scipy.stats as st\n",
    "sns.set_style('whitegrid')\n",
    "pd.set_option('display.max_columns', None)\n",
    "pd.set_option('display.max_rows', 10)\n",
    "pd.set_option('display.float_format', lambda x: '%.3f' % x)\n",
    "import math\n",
    "import matplotlib.pyplot as plt\n",
    "%matplotlib inline\n",
    "from sklearn.preprocessing import StandardScaler\n",
    "from scipy import stats\n",
    "import warnings\n",
    "warnings.filterwarnings(\"ignore\")"
   ]
  },
  {
   "cell_type": "code",
   "execution_count": 169,
   "metadata": {},
   "outputs": [
    {
     "data": {
      "text/html": [
       "<div>\n",
       "<style scoped>\n",
       "    .dataframe tbody tr th:only-of-type {\n",
       "        vertical-align: middle;\n",
       "    }\n",
       "\n",
       "    .dataframe tbody tr th {\n",
       "        vertical-align: top;\n",
       "    }\n",
       "\n",
       "    .dataframe thead th {\n",
       "        text-align: right;\n",
       "    }\n",
       "</style>\n",
       "<table border=\"1\" class=\"dataframe\">\n",
       "  <thead>\n",
       "    <tr style=\"text-align: right;\">\n",
       "      <th></th>\n",
       "      <th>ID</th>\n",
       "      <th>Building</th>\n",
       "      <th>Year of sale</th>\n",
       "      <th>Month of sale</th>\n",
       "      <th>Type of property</th>\n",
       "      <th>Property number</th>\n",
       "      <th>Area (ft.)</th>\n",
       "      <th>Price</th>\n",
       "      <th>Status</th>\n",
       "      <th>Customer ID</th>\n",
       "      <th>Entity</th>\n",
       "      <th>Name</th>\n",
       "      <th>Surname</th>\n",
       "      <th>Age at time of purchase</th>\n",
       "      <th>Age Interval</th>\n",
       "      <th>Y</th>\n",
       "      <th>M</th>\n",
       "      <th>D</th>\n",
       "      <th>Gender</th>\n",
       "      <th>Country</th>\n",
       "      <th>State</th>\n",
       "      <th>Purpose</th>\n",
       "      <th>Deal satisfaction</th>\n",
       "      <th>Mortgage</th>\n",
       "      <th>Source</th>\n",
       "    </tr>\n",
       "  </thead>\n",
       "  <tbody>\n",
       "    <tr>\n",
       "      <th>0</th>\n",
       "      <td>1030</td>\n",
       "      <td>1</td>\n",
       "      <td>2005</td>\n",
       "      <td>11</td>\n",
       "      <td>Apartment</td>\n",
       "      <td>30</td>\n",
       "      <td>743.090</td>\n",
       "      <td>$ 246,172.68</td>\n",
       "      <td>Sold</td>\n",
       "      <td>C0028</td>\n",
       "      <td>Individual</td>\n",
       "      <td>Madalyn</td>\n",
       "      <td>Mercer</td>\n",
       "      <td>19.000</td>\n",
       "      <td>18-25</td>\n",
       "      <td>1986.000</td>\n",
       "      <td>6.000</td>\n",
       "      <td>21.000</td>\n",
       "      <td>F</td>\n",
       "      <td>USA</td>\n",
       "      <td>California</td>\n",
       "      <td>Home</td>\n",
       "      <td>5</td>\n",
       "      <td>No</td>\n",
       "      <td>Website</td>\n",
       "    </tr>\n",
       "    <tr>\n",
       "      <th>1</th>\n",
       "      <td>1029</td>\n",
       "      <td>1</td>\n",
       "      <td>2005</td>\n",
       "      <td>10</td>\n",
       "      <td>Apartment</td>\n",
       "      <td>29</td>\n",
       "      <td>756.210</td>\n",
       "      <td>$ 246,331.90</td>\n",
       "      <td>Sold</td>\n",
       "      <td>C0027</td>\n",
       "      <td>Individual</td>\n",
       "      <td>Lara</td>\n",
       "      <td>Carrillo</td>\n",
       "      <td>22.000</td>\n",
       "      <td>18-25</td>\n",
       "      <td>1983.000</td>\n",
       "      <td>2.000</td>\n",
       "      <td>24.000</td>\n",
       "      <td>F</td>\n",
       "      <td>USA</td>\n",
       "      <td>California</td>\n",
       "      <td>Home</td>\n",
       "      <td>5</td>\n",
       "      <td>No</td>\n",
       "      <td>Website</td>\n",
       "    </tr>\n",
       "    <tr>\n",
       "      <th>2</th>\n",
       "      <td>2002</td>\n",
       "      <td>2</td>\n",
       "      <td>2007</td>\n",
       "      <td>7</td>\n",
       "      <td>Apartment</td>\n",
       "      <td>2</td>\n",
       "      <td>587.280</td>\n",
       "      <td>$ 209,280.91</td>\n",
       "      <td>Sold</td>\n",
       "      <td>C0112</td>\n",
       "      <td>Individual</td>\n",
       "      <td>Donavan</td>\n",
       "      <td>Flowers</td>\n",
       "      <td>22.000</td>\n",
       "      <td>18-25</td>\n",
       "      <td>1985.000</td>\n",
       "      <td>12.000</td>\n",
       "      <td>27.000</td>\n",
       "      <td>M</td>\n",
       "      <td>USA</td>\n",
       "      <td>California</td>\n",
       "      <td>Home</td>\n",
       "      <td>1</td>\n",
       "      <td>Yes</td>\n",
       "      <td>Client</td>\n",
       "    </tr>\n",
       "    <tr>\n",
       "      <th>3</th>\n",
       "      <td>2031</td>\n",
       "      <td>2</td>\n",
       "      <td>2007</td>\n",
       "      <td>12</td>\n",
       "      <td>Apartment</td>\n",
       "      <td>31</td>\n",
       "      <td>1604.750</td>\n",
       "      <td>$ 452,667.01</td>\n",
       "      <td>Sold</td>\n",
       "      <td>C0160</td>\n",
       "      <td>Individual</td>\n",
       "      <td>Darien</td>\n",
       "      <td>Dorsey</td>\n",
       "      <td>22.000</td>\n",
       "      <td>18-25</td>\n",
       "      <td>1985.000</td>\n",
       "      <td>12.000</td>\n",
       "      <td>27.000</td>\n",
       "      <td>M</td>\n",
       "      <td>USA</td>\n",
       "      <td>California</td>\n",
       "      <td>Investment</td>\n",
       "      <td>3</td>\n",
       "      <td>Yes</td>\n",
       "      <td>Website</td>\n",
       "    </tr>\n",
       "    <tr>\n",
       "      <th>4</th>\n",
       "      <td>1049</td>\n",
       "      <td>1</td>\n",
       "      <td>2004</td>\n",
       "      <td>11</td>\n",
       "      <td>Apartment</td>\n",
       "      <td>49</td>\n",
       "      <td>1375.450</td>\n",
       "      <td>$ 467,083.31</td>\n",
       "      <td>Sold</td>\n",
       "      <td>C0014</td>\n",
       "      <td>Individual</td>\n",
       "      <td>Alessandra</td>\n",
       "      <td>Perry</td>\n",
       "      <td>25.000</td>\n",
       "      <td>18-25</td>\n",
       "      <td>1979.000</td>\n",
       "      <td>5.000</td>\n",
       "      <td>15.000</td>\n",
       "      <td>F</td>\n",
       "      <td>USA</td>\n",
       "      <td>California</td>\n",
       "      <td>Home</td>\n",
       "      <td>4</td>\n",
       "      <td>No</td>\n",
       "      <td>Agency</td>\n",
       "    </tr>\n",
       "  </tbody>\n",
       "</table>\n",
       "</div>"
      ],
      "text/plain": [
       "     ID  Building  Year of sale  Month of sale Type of property  \\\n",
       "0  1030         1          2005             11        Apartment   \n",
       "1  1029         1          2005             10        Apartment   \n",
       "2  2002         2          2007              7        Apartment   \n",
       "3  2031         2          2007             12        Apartment   \n",
       "4  1049         1          2004             11        Apartment   \n",
       "\n",
       "   Property number  Area (ft.)           Price  Status Customer ID  \\\n",
       "0               30     743.090   $ 246,172.68    Sold        C0028   \n",
       "1               29     756.210   $ 246,331.90    Sold        C0027   \n",
       "2                2     587.280   $ 209,280.91    Sold        C0112   \n",
       "3               31    1604.750   $ 452,667.01    Sold        C0160   \n",
       "4               49    1375.450   $ 467,083.31    Sold        C0014   \n",
       "\n",
       "       Entity        Name   Surname  Age at time of purchase Age Interval   \\\n",
       "0  Individual     Madalyn    Mercer                   19.000         18-25   \n",
       "1  Individual        Lara  Carrillo                   22.000         18-25   \n",
       "2  Individual     Donavan   Flowers                   22.000         18-25   \n",
       "3  Individual      Darien    Dorsey                   22.000         18-25   \n",
       "4  Individual  Alessandra     Perry                   25.000         18-25   \n",
       "\n",
       "         Y      M      D Gender Country       State     Purpose  \\\n",
       "0 1986.000  6.000 21.000      F     USA  California        Home   \n",
       "1 1983.000  2.000 24.000      F     USA  California        Home   \n",
       "2 1985.000 12.000 27.000      M     USA  California        Home   \n",
       "3 1985.000 12.000 27.000      M     USA  California  Investment   \n",
       "4 1979.000  5.000 15.000      F     USA  California        Home   \n",
       "\n",
       "   Deal satisfaction Mortgage   Source  \n",
       "0                  5       No  Website  \n",
       "1                  5       No  Website  \n",
       "2                  1      Yes   Client  \n",
       "3                  3      Yes  Website  \n",
       "4                  4       No   Agency  "
      ]
     },
     "execution_count": 169,
     "metadata": {},
     "output_type": "execute_result"
    }
   ],
   "source": [
    "df = pd.read_csv('clients.csv')\n",
    "df.head()"
   ]
  },
  {
   "cell_type": "markdown",
   "metadata": {},
   "source": [
    "Посмотрим предварительно, что преставляет собой данный dataset"
   ]
  },
  {
   "cell_type": "code",
   "execution_count": 170,
   "metadata": {},
   "outputs": [
    {
     "name": "stdout",
     "output_type": "stream",
     "text": [
      "<class 'pandas.core.frame.DataFrame'>\n",
      "RangeIndex: 195 entries, 0 to 194\n",
      "Data columns (total 25 columns):\n",
      " #   Column                   Non-Null Count  Dtype  \n",
      "---  ------                   --------------  -----  \n",
      " 0   ID                       195 non-null    int64  \n",
      " 1   Building                 195 non-null    int64  \n",
      " 2   Year of sale             195 non-null    int64  \n",
      " 3   Month of sale            195 non-null    int64  \n",
      " 4   Type of property         195 non-null    object \n",
      " 5   Property number          195 non-null    int64  \n",
      " 6   Area (ft.)               195 non-null    float64\n",
      " 7   Price                    195 non-null    object \n",
      " 8   Status                   195 non-null    object \n",
      " 9   Customer ID              195 non-null    object \n",
      " 10  Entity                   195 non-null    object \n",
      " 11  Name                     195 non-null    object \n",
      " 12  Surname                  195 non-null    object \n",
      " 13  Age at time of purchase  178 non-null    float64\n",
      " 14  Age Interval             178 non-null    object \n",
      " 15  Y                        178 non-null    float64\n",
      " 16  M                        178 non-null    float64\n",
      " 17  D                        178 non-null    float64\n",
      " 18  Gender                   178 non-null    object \n",
      " 19  Country                  195 non-null    object \n",
      " 20  State                    181 non-null    object \n",
      " 21  Purpose                  195 non-null    object \n",
      " 22  Deal satisfaction        195 non-null    int64  \n",
      " 23  Mortgage                 195 non-null    object \n",
      " 24  Source                   195 non-null    object \n",
      "dtypes: float64(5), int64(6), object(14)\n",
      "memory usage: 38.2+ KB\n"
     ]
    }
   ],
   "source": [
    "df.info()"
   ]
  },
  {
   "cell_type": "code",
   "execution_count": 171,
   "metadata": {},
   "outputs": [
    {
     "data": {
      "text/plain": [
       "Index(['ID', 'Building', 'Year of sale', 'Month of sale', 'Type of property',\n",
       "       'Property number', 'Area (ft.)', 'Price', 'Status', 'Customer ID',\n",
       "       'Entity', 'Name', 'Surname', 'Age at time of purchase', 'Age Interval',\n",
       "       'Y', 'M', 'D', 'Gender', 'Country', 'State', 'Purpose',\n",
       "       'Deal satisfaction', 'Mortgage', 'Source'],\n",
       "      dtype='object')"
      ]
     },
     "execution_count": 171,
     "metadata": {},
     "output_type": "execute_result"
    }
   ],
   "source": [
    "df.rename(columns = {'Age Interval ':'Age Interval'}, inplace = True)\n",
    "df.columns"
   ]
  },
  {
   "attachments": {},
   "cell_type": "markdown",
   "metadata": {},
   "source": [
    "Итого мы имеем некоторую информацию о совершенных сделках (Status = 'Sold') на рынке недвижимости. Данная информация характеризует:\n",
    "* сам объект недвижимости: тип - офисная или жилая, площать, предположительно дата строительства (Y,M,D), географическое местположение (в основном, USA, но не только));\n",
    "* клиент, который ее приобрел: идентификатор в базе, физическое или юридическое лицо, фамилия и имя, пол, возраст и т.д.;\n",
    "* информация о собственно сделке: регистрационный номер в базе, цена, по которой продано, целевое назначение, в ипотеку либо нет.\n",
    "\n",
    "Для построения типичного портрета целевого объекта компании нас в первую очередь интересует следующий набор колонок:\n",
    "* _Type of property_ - тип приобретаемой недвижимости: Apartement (жилая) или Office (офисная);\n",
    "* _Area (ft.)_ - площадь. Для перевода в m2 можно воспользоваться соотношением: 1 Square Feet = 0.093 Square Meter\n",
    "* _Price_ - цена покупки\n",
    "* _Entity_ - тип клиента: Individual (физичиское лицо) или Firm (юридическое лицо)\n",
    "* _Age at time of purchase_ - возраст клиента на момент покупки\n",
    "* _Age Interval_ - возрастной диапазон клиента\n",
    "* _Gender_ - пол: M (мужской) или F (женский)\n",
    "* _Purpose_ - цель покупки: Home (для проживания) или Investment (как инвестиция в недвижимость)\n",
    "* _Source_ - иcточник, с помощью которого клиент узнал о компании: Agency (через агенство), Client (он или кто-то из знакомых являлись ранее клиетом), Website (через информацию, размещенную на сайте)."
   ]
  },
  {
   "cell_type": "markdown",
   "metadata": {},
   "source": [
    "Выполним небольшое преобразование типов данных для интересующих нас колонок"
   ]
  },
  {
   "cell_type": "code",
   "execution_count": 172,
   "metadata": {},
   "outputs": [],
   "source": [
    "df = df.astype({'Type of property':'category', 'Entity':'category', 'Name':str, 'Surname':str, 'Purpose':'category', \n",
    "               'Age Interval':'category', 'Gender':'category', 'Mortgage':'category', 'Source':'category'})\n",
    "\n",
    "def clean_currency(x):\n",
    "    if isinstance(x, str):\n",
    "        return(x.replace('$', '').replace(',', ''))\n",
    "    return(x)\n",
    "\n",
    "df['Price'] = df['Price'].apply(clean_currency).astype('float')"
   ]
  },
  {
   "cell_type": "markdown",
   "metadata": {},
   "source": [
    "Проанализируем отсутствующие значения в массиве данных"
   ]
  },
  {
   "cell_type": "code",
   "execution_count": 173,
   "metadata": {},
   "outputs": [
    {
     "name": "stdout",
     "output_type": "stream",
     "text": [
      "ID                    0\n",
      "Building              0\n",
      "Year of sale          0\n",
      "Month of sale         0\n",
      "Type of property      0\n",
      "                     ..\n",
      "State                14\n",
      "Purpose               0\n",
      "Deal satisfaction     0\n",
      "Mortgage              0\n",
      "Source                0\n",
      "Length: 25, dtype: int64\n"
     ]
    },
    {
     "data": {
      "text/html": [
       "<div>\n",
       "<style scoped>\n",
       "    .dataframe tbody tr th:only-of-type {\n",
       "        vertical-align: middle;\n",
       "    }\n",
       "\n",
       "    .dataframe tbody tr th {\n",
       "        vertical-align: top;\n",
       "    }\n",
       "\n",
       "    .dataframe thead th {\n",
       "        text-align: right;\n",
       "    }\n",
       "</style>\n",
       "<table border=\"1\" class=\"dataframe\">\n",
       "  <thead>\n",
       "    <tr style=\"text-align: right;\">\n",
       "      <th></th>\n",
       "      <th>ID</th>\n",
       "      <th>Building</th>\n",
       "      <th>Year of sale</th>\n",
       "      <th>Month of sale</th>\n",
       "      <th>Type of property</th>\n",
       "      <th>Property number</th>\n",
       "      <th>Area (ft.)</th>\n",
       "      <th>Price</th>\n",
       "      <th>Status</th>\n",
       "      <th>Customer ID</th>\n",
       "      <th>Entity</th>\n",
       "      <th>Name</th>\n",
       "      <th>Surname</th>\n",
       "      <th>Age at time of purchase</th>\n",
       "      <th>Age Interval</th>\n",
       "      <th>Y</th>\n",
       "      <th>M</th>\n",
       "      <th>D</th>\n",
       "      <th>Gender</th>\n",
       "      <th>Country</th>\n",
       "      <th>State</th>\n",
       "      <th>Purpose</th>\n",
       "      <th>Deal satisfaction</th>\n",
       "      <th>Mortgage</th>\n",
       "      <th>Source</th>\n",
       "    </tr>\n",
       "  </thead>\n",
       "  <tbody>\n",
       "    <tr>\n",
       "      <th>178</th>\n",
       "      <td>1005</td>\n",
       "      <td>1</td>\n",
       "      <td>2004</td>\n",
       "      <td>3</td>\n",
       "      <td>Office</td>\n",
       "      <td>5</td>\n",
       "      <td>410.710</td>\n",
       "      <td>117564.070</td>\n",
       "      <td>Sold</td>\n",
       "      <td>C0001</td>\n",
       "      <td>Firm</td>\n",
       "      <td>Kamd</td>\n",
       "      <td>Co</td>\n",
       "      <td>NaN</td>\n",
       "      <td>NaN</td>\n",
       "      <td>NaN</td>\n",
       "      <td>NaN</td>\n",
       "      <td>NaN</td>\n",
       "      <td>NaN</td>\n",
       "      <td>USA</td>\n",
       "      <td>California</td>\n",
       "      <td>Investment</td>\n",
       "      <td>5</td>\n",
       "      <td>No</td>\n",
       "      <td>Agency</td>\n",
       "    </tr>\n",
       "    <tr>\n",
       "      <th>179</th>\n",
       "      <td>1009</td>\n",
       "      <td>1</td>\n",
       "      <td>2004</td>\n",
       "      <td>11</td>\n",
       "      <td>Office</td>\n",
       "      <td>9</td>\n",
       "      <td>1200.820</td>\n",
       "      <td>317196.400</td>\n",
       "      <td>Sold</td>\n",
       "      <td>C0012</td>\n",
       "      <td>Firm</td>\n",
       "      <td>Bridger CAL</td>\n",
       "      <td>Co</td>\n",
       "      <td>NaN</td>\n",
       "      <td>NaN</td>\n",
       "      <td>NaN</td>\n",
       "      <td>NaN</td>\n",
       "      <td>NaN</td>\n",
       "      <td>NaN</td>\n",
       "      <td>USA</td>\n",
       "      <td>Nevada</td>\n",
       "      <td>Investment</td>\n",
       "      <td>5</td>\n",
       "      <td>No</td>\n",
       "      <td>Website</td>\n",
       "    </tr>\n",
       "    <tr>\n",
       "      <th>180</th>\n",
       "      <td>1009</td>\n",
       "      <td>1</td>\n",
       "      <td>2004</td>\n",
       "      <td>11</td>\n",
       "      <td>Office</td>\n",
       "      <td>10</td>\n",
       "      <td>800.960</td>\n",
       "      <td>264142.160</td>\n",
       "      <td>Sold</td>\n",
       "      <td>C0012</td>\n",
       "      <td>Firm</td>\n",
       "      <td>Bridger CAL</td>\n",
       "      <td>Co</td>\n",
       "      <td>NaN</td>\n",
       "      <td>NaN</td>\n",
       "      <td>NaN</td>\n",
       "      <td>NaN</td>\n",
       "      <td>NaN</td>\n",
       "      <td>NaN</td>\n",
       "      <td>USA</td>\n",
       "      <td>Nevada</td>\n",
       "      <td>Investment</td>\n",
       "      <td>4</td>\n",
       "      <td>No</td>\n",
       "      <td>Website</td>\n",
       "    </tr>\n",
       "    <tr>\n",
       "      <th>181</th>\n",
       "      <td>1011</td>\n",
       "      <td>1</td>\n",
       "      <td>2005</td>\n",
       "      <td>9</td>\n",
       "      <td>Office</td>\n",
       "      <td>11</td>\n",
       "      <td>827.870</td>\n",
       "      <td>222947.210</td>\n",
       "      <td>Sold</td>\n",
       "      <td>C0025</td>\n",
       "      <td>Firm</td>\n",
       "      <td>Abdiel</td>\n",
       "      <td>Co</td>\n",
       "      <td>NaN</td>\n",
       "      <td>NaN</td>\n",
       "      <td>NaN</td>\n",
       "      <td>NaN</td>\n",
       "      <td>NaN</td>\n",
       "      <td>NaN</td>\n",
       "      <td>USA</td>\n",
       "      <td>Nevada</td>\n",
       "      <td>Investment</td>\n",
       "      <td>5</td>\n",
       "      <td>Yes</td>\n",
       "      <td>Website</td>\n",
       "    </tr>\n",
       "    <tr>\n",
       "      <th>182</th>\n",
       "      <td>1007</td>\n",
       "      <td>1</td>\n",
       "      <td>2005</td>\n",
       "      <td>12</td>\n",
       "      <td>Apartment</td>\n",
       "      <td>7</td>\n",
       "      <td>775.690</td>\n",
       "      <td>250312.530</td>\n",
       "      <td>Sold</td>\n",
       "      <td>C0029</td>\n",
       "      <td>Firm</td>\n",
       "      <td>Kenyon</td>\n",
       "      <td>Co</td>\n",
       "      <td>NaN</td>\n",
       "      <td>NaN</td>\n",
       "      <td>NaN</td>\n",
       "      <td>NaN</td>\n",
       "      <td>NaN</td>\n",
       "      <td>NaN</td>\n",
       "      <td>USA</td>\n",
       "      <td>Nevada</td>\n",
       "      <td>Investment</td>\n",
       "      <td>1</td>\n",
       "      <td>Yes</td>\n",
       "      <td>Website</td>\n",
       "    </tr>\n",
       "    <tr>\n",
       "      <th>...</th>\n",
       "      <td>...</td>\n",
       "      <td>...</td>\n",
       "      <td>...</td>\n",
       "      <td>...</td>\n",
       "      <td>...</td>\n",
       "      <td>...</td>\n",
       "      <td>...</td>\n",
       "      <td>...</td>\n",
       "      <td>...</td>\n",
       "      <td>...</td>\n",
       "      <td>...</td>\n",
       "      <td>...</td>\n",
       "      <td>...</td>\n",
       "      <td>...</td>\n",
       "      <td>...</td>\n",
       "      <td>...</td>\n",
       "      <td>...</td>\n",
       "      <td>...</td>\n",
       "      <td>...</td>\n",
       "      <td>...</td>\n",
       "      <td>...</td>\n",
       "      <td>...</td>\n",
       "      <td>...</td>\n",
       "      <td>...</td>\n",
       "      <td>...</td>\n",
       "    </tr>\n",
       "    <tr>\n",
       "      <th>190</th>\n",
       "      <td>1022</td>\n",
       "      <td>1</td>\n",
       "      <td>2005</td>\n",
       "      <td>7</td>\n",
       "      <td>Apartment</td>\n",
       "      <td>22</td>\n",
       "      <td>743.090</td>\n",
       "      <td>210745.170</td>\n",
       "      <td>Sold</td>\n",
       "      <td>C0174</td>\n",
       "      <td>Firm</td>\n",
       "      <td>Marleez</td>\n",
       "      <td>Co</td>\n",
       "      <td>NaN</td>\n",
       "      <td>NaN</td>\n",
       "      <td>NaN</td>\n",
       "      <td>NaN</td>\n",
       "      <td>NaN</td>\n",
       "      <td>NaN</td>\n",
       "      <td>USA</td>\n",
       "      <td>California</td>\n",
       "      <td>Investment</td>\n",
       "      <td>5</td>\n",
       "      <td>No</td>\n",
       "      <td>Website</td>\n",
       "    </tr>\n",
       "    <tr>\n",
       "      <th>191</th>\n",
       "      <td>1028</td>\n",
       "      <td>1</td>\n",
       "      <td>2005</td>\n",
       "      <td>7</td>\n",
       "      <td>Apartment</td>\n",
       "      <td>28</td>\n",
       "      <td>1160.360</td>\n",
       "      <td>331154.880</td>\n",
       "      <td>Sold</td>\n",
       "      <td>C0174</td>\n",
       "      <td>Firm</td>\n",
       "      <td>Marleez</td>\n",
       "      <td>Co</td>\n",
       "      <td>NaN</td>\n",
       "      <td>NaN</td>\n",
       "      <td>NaN</td>\n",
       "      <td>NaN</td>\n",
       "      <td>NaN</td>\n",
       "      <td>NaN</td>\n",
       "      <td>USA</td>\n",
       "      <td>California</td>\n",
       "      <td>Investment</td>\n",
       "      <td>5</td>\n",
       "      <td>No</td>\n",
       "      <td>Website</td>\n",
       "    </tr>\n",
       "    <tr>\n",
       "      <th>192</th>\n",
       "      <td>1034</td>\n",
       "      <td>1</td>\n",
       "      <td>2005</td>\n",
       "      <td>7</td>\n",
       "      <td>Apartment</td>\n",
       "      <td>34</td>\n",
       "      <td>625.800</td>\n",
       "      <td>204434.680</td>\n",
       "      <td>Sold</td>\n",
       "      <td>C0174</td>\n",
       "      <td>Firm</td>\n",
       "      <td>Marleez</td>\n",
       "      <td>Co</td>\n",
       "      <td>NaN</td>\n",
       "      <td>NaN</td>\n",
       "      <td>NaN</td>\n",
       "      <td>NaN</td>\n",
       "      <td>NaN</td>\n",
       "      <td>NaN</td>\n",
       "      <td>USA</td>\n",
       "      <td>California</td>\n",
       "      <td>Investment</td>\n",
       "      <td>5</td>\n",
       "      <td>No</td>\n",
       "      <td>Website</td>\n",
       "    </tr>\n",
       "    <tr>\n",
       "      <th>193</th>\n",
       "      <td>1037</td>\n",
       "      <td>1</td>\n",
       "      <td>2005</td>\n",
       "      <td>7</td>\n",
       "      <td>Apartment</td>\n",
       "      <td>37</td>\n",
       "      <td>756.210</td>\n",
       "      <td>189194.310</td>\n",
       "      <td>Sold</td>\n",
       "      <td>C0174</td>\n",
       "      <td>Firm</td>\n",
       "      <td>Marleez</td>\n",
       "      <td>Co</td>\n",
       "      <td>NaN</td>\n",
       "      <td>NaN</td>\n",
       "      <td>NaN</td>\n",
       "      <td>NaN</td>\n",
       "      <td>NaN</td>\n",
       "      <td>NaN</td>\n",
       "      <td>USA</td>\n",
       "      <td>California</td>\n",
       "      <td>Investment</td>\n",
       "      <td>5</td>\n",
       "      <td>No</td>\n",
       "      <td>Website</td>\n",
       "    </tr>\n",
       "    <tr>\n",
       "      <th>194</th>\n",
       "      <td>1042</td>\n",
       "      <td>1</td>\n",
       "      <td>2005</td>\n",
       "      <td>7</td>\n",
       "      <td>Apartment</td>\n",
       "      <td>42</td>\n",
       "      <td>625.800</td>\n",
       "      <td>204027.090</td>\n",
       "      <td>Sold</td>\n",
       "      <td>C0174</td>\n",
       "      <td>Firm</td>\n",
       "      <td>Marleez</td>\n",
       "      <td>Co</td>\n",
       "      <td>NaN</td>\n",
       "      <td>NaN</td>\n",
       "      <td>NaN</td>\n",
       "      <td>NaN</td>\n",
       "      <td>NaN</td>\n",
       "      <td>NaN</td>\n",
       "      <td>USA</td>\n",
       "      <td>California</td>\n",
       "      <td>Investment</td>\n",
       "      <td>5</td>\n",
       "      <td>No</td>\n",
       "      <td>Website</td>\n",
       "    </tr>\n",
       "  </tbody>\n",
       "</table>\n",
       "<p>17 rows × 25 columns</p>\n",
       "</div>"
      ],
      "text/plain": [
       "       ID  Building  Year of sale  Month of sale Type of property  \\\n",
       "178  1005         1          2004              3           Office   \n",
       "179  1009         1          2004             11           Office   \n",
       "180  1009         1          2004             11           Office   \n",
       "181  1011         1          2005              9           Office   \n",
       "182  1007         1          2005             12        Apartment   \n",
       "..    ...       ...           ...            ...              ...   \n",
       "190  1022         1          2005              7        Apartment   \n",
       "191  1028         1          2005              7        Apartment   \n",
       "192  1034         1          2005              7        Apartment   \n",
       "193  1037         1          2005              7        Apartment   \n",
       "194  1042         1          2005              7        Apartment   \n",
       "\n",
       "     Property number  Area (ft.)      Price  Status Customer ID Entity  \\\n",
       "178                5     410.710 117564.070   Sold        C0001   Firm   \n",
       "179                9    1200.820 317196.400   Sold        C0012   Firm   \n",
       "180               10     800.960 264142.160   Sold        C0012   Firm   \n",
       "181               11     827.870 222947.210   Sold        C0025   Firm   \n",
       "182                7     775.690 250312.530   Sold        C0029   Firm   \n",
       "..               ...         ...        ...     ...         ...    ...   \n",
       "190               22     743.090 210745.170   Sold        C0174   Firm   \n",
       "191               28    1160.360 331154.880   Sold        C0174   Firm   \n",
       "192               34     625.800 204434.680   Sold        C0174   Firm   \n",
       "193               37     756.210 189194.310   Sold        C0174   Firm   \n",
       "194               42     625.800 204027.090   Sold        C0174   Firm   \n",
       "\n",
       "            Name Surname  Age at time of purchase Age Interval   Y   M   D  \\\n",
       "178         Kamd      Co                      NaN          NaN NaN NaN NaN   \n",
       "179  Bridger CAL      Co                      NaN          NaN NaN NaN NaN   \n",
       "180  Bridger CAL      Co                      NaN          NaN NaN NaN NaN   \n",
       "181       Abdiel      Co                      NaN          NaN NaN NaN NaN   \n",
       "182       Kenyon      Co                      NaN          NaN NaN NaN NaN   \n",
       "..           ...     ...                      ...          ...  ..  ..  ..   \n",
       "190      Marleez      Co                      NaN          NaN NaN NaN NaN   \n",
       "191      Marleez      Co                      NaN          NaN NaN NaN NaN   \n",
       "192      Marleez      Co                      NaN          NaN NaN NaN NaN   \n",
       "193      Marleez      Co                      NaN          NaN NaN NaN NaN   \n",
       "194      Marleez      Co                      NaN          NaN NaN NaN NaN   \n",
       "\n",
       "    Gender Country       State     Purpose  Deal satisfaction Mortgage  \\\n",
       "178    NaN     USA  California  Investment                  5       No   \n",
       "179    NaN     USA      Nevada  Investment                  5       No   \n",
       "180    NaN     USA      Nevada  Investment                  4       No   \n",
       "181    NaN     USA      Nevada  Investment                  5      Yes   \n",
       "182    NaN     USA      Nevada  Investment                  1      Yes   \n",
       "..     ...     ...         ...         ...                ...      ...   \n",
       "190    NaN    USA   California  Investment                  5       No   \n",
       "191    NaN    USA   California  Investment                  5       No   \n",
       "192    NaN    USA   California  Investment                  5       No   \n",
       "193    NaN    USA   California  Investment                  5       No   \n",
       "194    NaN    USA   California  Investment                  5       No   \n",
       "\n",
       "      Source  \n",
       "178   Agency  \n",
       "179  Website  \n",
       "180  Website  \n",
       "181  Website  \n",
       "182  Website  \n",
       "..       ...  \n",
       "190  Website  \n",
       "191  Website  \n",
       "192  Website  \n",
       "193  Website  \n",
       "194  Website  \n",
       "\n",
       "[17 rows x 25 columns]"
      ]
     },
     "execution_count": 173,
     "metadata": {},
     "output_type": "execute_result"
    }
   ],
   "source": [
    "print(df.isnull().sum())\n",
    "df[pd.isnull(df['Gender'])]"
   ]
  },
  {
   "cell_type": "markdown",
   "metadata": {},
   "source": [
    "Dataset содержит довольно большое количество пропущенных значений. Если присмотреться повнимательнее, то информация о поле, возрасте и пр. отсутствует тогда, когда в качестве покупателя выступает юридическое лицо (Entity = 'Firm'). Однако таких покупателей заметно меньше, чем покупателей физических лиц"
   ]
  },
  {
   "cell_type": "code",
   "execution_count": 174,
   "metadata": {},
   "outputs": [
    {
     "data": {
      "text/plain": [
       "Individual    178\n",
       "Firm           17\n",
       "Name: Entity, dtype: int64"
      ]
     },
     "execution_count": 174,
     "metadata": {},
     "output_type": "execute_result"
    }
   ],
   "source": [
    "df['Entity'].value_counts()"
   ]
  },
  {
   "cell_type": "markdown",
   "metadata": {},
   "source": [
    "В дальшейшем для построение портрета нашего типичного покупателя сконцентируемся на физических лицах"
   ]
  },
  {
   "cell_type": "code",
   "execution_count": 175,
   "metadata": {},
   "outputs": [],
   "source": [
    "df = df.loc[df['Entity']=='Individual']"
   ]
  },
  {
   "cell_type": "code",
   "execution_count": 176,
   "metadata": {},
   "outputs": [
    {
     "name": "stdout",
     "output_type": "stream",
     "text": [
      "ID                    0\n",
      "Building              0\n",
      "Year of sale          0\n",
      "Month of sale         0\n",
      "Type of property      0\n",
      "                     ..\n",
      "State                14\n",
      "Purpose               0\n",
      "Deal satisfaction     0\n",
      "Mortgage              0\n",
      "Source                0\n",
      "Length: 25, dtype: int64\n"
     ]
    }
   ],
   "source": [
    "print(df.isnull().sum())"
   ]
  },
  {
   "cell_type": "markdown",
   "metadata": {},
   "source": [
    "У таких клиентов для 14 записей отсутвует информация о штате расположения недвжимости (сделки вне USA), но данная информация нас сейчас не интересует, оставим неопреденные значения без изменений"
   ]
  },
  {
   "cell_type": "markdown",
   "metadata": {},
   "source": [
    "### Теперь приступим непосредственно к построению портрета типичного клиента компании:"
   ]
  },
  {
   "cell_type": "code",
   "execution_count": 177,
   "metadata": {},
   "outputs": [
    {
     "data": {
      "text/plain": [
       "M    108\n",
       "F     70\n",
       "Name: Gender, dtype: int64"
      ]
     },
     "execution_count": 177,
     "metadata": {},
     "output_type": "execute_result"
    }
   ],
   "source": [
    "df['Gender'].value_counts()"
   ]
  },
  {
   "cell_type": "markdown",
   "metadata": {},
   "source": [
    "Как видим, мужчин больше. Посмотрим теперь повнимательнее на возраст покупателей"
   ]
  },
  {
   "cell_type": "code",
   "execution_count": 178,
   "metadata": {},
   "outputs": [
    {
     "name": "stdout",
     "output_type": "stream",
     "text": [
      "36-45    52\n",
      "46-55    41\n",
      "26-35    36\n",
      "56-65    26\n",
      "65+      18\n",
      "18-25     5\n",
      "Name: Age Interval, dtype: int64\n"
     ]
    },
    {
     "data": {
      "image/png": "[encoded data removed]",
      "text/plain": [
       "<Figure size 360x360 with 1 Axes>"
      ]
     },
     "metadata": {
      "needs_background": "light"
     },
     "output_type": "display_data"
    }
   ],
   "source": [
    "print(df['Age Interval'].value_counts())\n",
    "sns.displot(df, x=\"Age Interval\", kde=True);"
   ]
  },
  {
   "cell_type": "markdown",
   "metadata": {},
   "source": [
    "Как видим, больше всего клиентов в возрастном интервале 36-45 лет.\n",
    "Для анализа возраста у нас есть еще одна колонка \"Age at time of purchase\", посмотрим на нее повнимательнее"
   ]
  },
  {
   "cell_type": "code",
   "execution_count": 179,
   "metadata": {},
   "outputs": [
    {
     "data": {
      "image/png": "[encoded data removed]",
      "text/plain": [
       "<Figure size 432x288 with 1 Axes>"
      ]
     },
     "metadata": {
      "needs_background": "light"
     },
     "output_type": "display_data"
    }
   ],
   "source": [
    "sns.boxplot(x=\"Gender\", y=\"Age at time of purchase\", data=df);"
   ]
  },
  {
   "cell_type": "code",
   "execution_count": 180,
   "metadata": {},
   "outputs": [
    {
     "data": {
      "text/plain": [
       "Gender\n",
       "F   45.157\n",
       "M   46.796\n",
       "Name: Age at time of purchase, dtype: float64"
      ]
     },
     "execution_count": 180,
     "metadata": {},
     "output_type": "execute_result"
    }
   ],
   "source": [
    "df.groupby('Gender')['Age at time of purchase'].mean()"
   ]
  },
  {
   "cell_type": "markdown",
   "metadata": {},
   "source": [
    "Как видим, мужчины-покупатели чуть постарше, но в целом возраст среднего покупателя около 45 лет."
   ]
  },
  {
   "cell_type": "markdown",
   "metadata": {},
   "source": [
    "Посмотрим, что за тип недвижимости приобретали:"
   ]
  },
  {
   "cell_type": "code",
   "execution_count": 181,
   "metadata": {},
   "outputs": [
    {
     "data": {
      "text/plain": [
       "Apartment    176\n",
       "Office         2\n",
       "Name: Type of property, dtype: int64"
      ]
     },
     "execution_count": 181,
     "metadata": {},
     "output_type": "execute_result"
    }
   ],
   "source": [
    "df['Type of property'].value_counts()"
   ]
  },
  {
   "cell_type": "markdown",
   "metadata": {},
   "source": [
    "Даже без визуального представления очевидно, что в основном приобреталась жилая недвижимость. Посмотрим, какая у нее была площадь."
   ]
  },
  {
   "cell_type": "code",
   "execution_count": 182,
   "metadata": {},
   "outputs": [],
   "source": [
    "df['Area, m2'] = df['Area (ft.)'] * 0.092903"
   ]
  },
  {
   "cell_type": "code",
   "execution_count": 183,
   "metadata": {},
   "outputs": [
    {
     "data": {
      "text/html": [
       "<div>\n",
       "<style scoped>\n",
       "    .dataframe tbody tr th:only-of-type {\n",
       "        vertical-align: middle;\n",
       "    }\n",
       "\n",
       "    .dataframe tbody tr th {\n",
       "        vertical-align: top;\n",
       "    }\n",
       "\n",
       "    .dataframe thead th {\n",
       "        text-align: right;\n",
       "    }\n",
       "</style>\n",
       "<table border=\"1\" class=\"dataframe\">\n",
       "  <thead>\n",
       "    <tr style=\"text-align: right;\">\n",
       "      <th></th>\n",
       "      <th>Area, m2</th>\n",
       "      <th>Area (ft.)</th>\n",
       "    </tr>\n",
       "  </thead>\n",
       "  <tbody>\n",
       "    <tr>\n",
       "      <th>mean</th>\n",
       "      <td>84.078</td>\n",
       "      <td>905.009</td>\n",
       "    </tr>\n",
       "    <tr>\n",
       "      <th>median</th>\n",
       "      <td>73.628</td>\n",
       "      <td>792.530</td>\n",
       "    </tr>\n",
       "    <tr>\n",
       "      <th>std</th>\n",
       "      <td>24.098</td>\n",
       "      <td>259.384</td>\n",
       "    </tr>\n",
       "  </tbody>\n",
       "</table>\n",
       "</div>"
      ],
      "text/plain": [
       "        Area, m2  Area (ft.)\n",
       "mean      84.078     905.009\n",
       "median    73.628     792.530\n",
       "std       24.098     259.384"
      ]
     },
     "execution_count": 183,
     "metadata": {},
     "output_type": "execute_result"
    }
   ],
   "source": [
    "df.agg( { 'Area, m2': ['mean', 'median', 'std'], 'Area (ft.)': ['mean', 'median', 'std'] } )"
   ]
  },
  {
   "cell_type": "code",
   "execution_count": 187,
   "metadata": {},
   "outputs": [
    {
     "data": {
      "image/png": "[encoded data removed]",
      "text/plain": [
       "<Figure size 432x288 with 1 Axes>"
      ]
     },
     "metadata": {
      "needs_background": "light"
     },
     "output_type": "display_data"
    }
   ],
   "source": [
    "sns.violinplot(y='Area, m2', data=df, color=\"lightgreen\", inner=\"quartile\");"
   ]
  },
  {
   "cell_type": "markdown",
   "metadata": {},
   "source": [
    "Как видно из приведенных выше данных, распределение площадей проданных квартир неравномерное: больше квартир продается меньшей площади, что вполне логично. При средней площади 84 м2 медианное значение ниже 80, а именно 74 м2"
   ]
  },
  {
   "cell_type": "markdown",
   "metadata": {},
   "source": [
    "Следующий показатель для анализа - цена купленной квартины. Ранее мы уже перевели тип данных в необходимый числовой формат"
   ]
  },
  {
   "cell_type": "code",
   "execution_count": 188,
   "metadata": {},
   "outputs": [
    {
     "data": {
      "image/png": "[encoded data removed]",
      "text/plain": [
       "<Figure size 360x360 with 1 Axes>"
      ]
     },
     "metadata": {
      "needs_background": "light"
     },
     "output_type": "display_data"
    }
   ],
   "source": [
    "sns.displot(df, x=\"Price\", kde=True, color=\"purple\");"
   ]
  },
  {
   "cell_type": "code",
   "execution_count": 189,
   "metadata": {},
   "outputs": [
    {
     "data": {
      "text/html": [
       "<div>\n",
       "<style scoped>\n",
       "    .dataframe tbody tr th:only-of-type {\n",
       "        vertical-align: middle;\n",
       "    }\n",
       "\n",
       "    .dataframe tbody tr th {\n",
       "        vertical-align: top;\n",
       "    }\n",
       "\n",
       "    .dataframe thead th {\n",
       "        text-align: right;\n",
       "    }\n",
       "</style>\n",
       "<table border=\"1\" class=\"dataframe\">\n",
       "  <thead>\n",
       "    <tr style=\"text-align: right;\">\n",
       "      <th></th>\n",
       "      <th>mean</th>\n",
       "      <th>median</th>\n",
       "      <th>std</th>\n",
       "    </tr>\n",
       "  </thead>\n",
       "  <tbody>\n",
       "    <tr>\n",
       "      <th>Price</th>\n",
       "      <td>270965.426</td>\n",
       "      <td>245196.730</td>\n",
       "      <td>78525.152</td>\n",
       "    </tr>\n",
       "  </tbody>\n",
       "</table>\n",
       "</div>"
      ],
      "text/plain": [
       "            mean     median       std\n",
       "Price 270965.426 245196.730 78525.152"
      ]
     },
     "execution_count": 189,
     "metadata": {},
     "output_type": "execute_result"
    }
   ],
   "source": [
    "df.agg({'Price': ['mean', 'median', 'std']}).T"
   ]
  },
  {
   "cell_type": "code",
   "execution_count": 190,
   "metadata": {},
   "outputs": [
    {
     "data": {
      "image/png": "[encoded data removed]",
      "text/plain": [
       "<Figure size 432x432 with 3 Axes>"
      ]
     },
     "metadata": {
      "needs_background": "light"
     },
     "output_type": "display_data"
    }
   ],
   "source": [
    "sns.jointplot(x='Area, m2', y='Price', \n",
    "              data=df, kind=\"reg\");"
   ]
  },
  {
   "cell_type": "markdown",
   "metadata": {},
   "source": [
    "Как видим, цена в значительной мере обусловлена площадью квартир. И также имеет асиметричное распределение: при средней цене в 270 тыс. долл. США половина квартир приобретена по цене ниже 245 тыс. долл. США"
   ]
  },
  {
   "cell_type": "code",
   "execution_count": 191,
   "metadata": {},
   "outputs": [
    {
     "data": {
      "text/plain": [
       "Home          118\n",
       "Investment     60\n",
       "Name: Purpose, dtype: int64"
      ]
     },
     "execution_count": 191,
     "metadata": {},
     "output_type": "execute_result"
    }
   ],
   "source": [
    "df['Purpose'].value_counts()"
   ]
  },
  {
   "cell_type": "code",
   "execution_count": 193,
   "metadata": {},
   "outputs": [
    {
     "data": {
      "image/png": "[encoded data removed]",
      "text/plain": [
       "<Figure size 360x180 with 2 Axes>"
      ]
     },
     "metadata": {
      "needs_background": "light"
     },
     "output_type": "display_data"
    }
   ],
   "source": [
    "sns.catplot(x=\"Purpose\", col=\"Mortgage\", data=df, kind=\"count\", height=2.5);"
   ]
  },
  {
   "cell_type": "markdown",
   "metadata": {},
   "source": [
    "Как видим, большая часть приоретенных квартир приобреталась для собственного проживания, а не в качестве объекта для инвестиций. Причем по большей части они приобретены не в ипотеку, т.е. без залога недвижимости."
   ]
  },
  {
   "cell_type": "markdown",
   "metadata": {},
   "source": [
    "Источником лида в нашем случае является Website:"
   ]
  },
  {
   "cell_type": "code",
   "execution_count": 196,
   "metadata": {},
   "outputs": [
    {
     "data": {
      "image/png": "[encoded data removed]",
      "text/plain": [
       "<Figure size 432x288 with 1 Axes>"
      ]
     },
     "metadata": {
      "needs_background": "light"
     },
     "output_type": "display_data"
    }
   ],
   "source": [
    "sns.countplot(x=\"Source\", data=df);"
   ]
  },
  {
   "cell_type": "code",
   "execution_count": 197,
   "metadata": {},
   "outputs": [
    {
     "data": {
      "text/plain": [
       "Website    103\n",
       "Agency      58\n",
       "Client      17\n",
       "Name: Source, dtype: int64"
      ]
     },
     "execution_count": 197,
     "metadata": {},
     "output_type": "execute_result"
    }
   ],
   "source": [
    "df['Source'].value_counts()"
   ]
  },
  {
   "cell_type": "markdown",
   "metadata": {},
   "source": [
    "### Таким образом, целевой клиент выглядит следующим образом: это преимущественно мужчина в возрасте примерно 45 лет, который, самостоятельно находя информацию в сети о Компании и регистрируясь на сайте, приобретает без ипотеки квартиру в США для проживания площадью порядка 80 квадратных метров и стоимостью около 250 тыс. долл. США"
   ]
  }
 ],
 "metadata": {
  "kernelspec": {
   "display_name": "Python 3 (ipykernel)",
   "language": "python",
   "name": "python3"
  },
  "language_info": {
   "codemirror_mode": {
    "name": "ipython",
    "version": 3
   },
   "file_extension": ".py",
   "mimetype": "text/x-python",
   "name": "python",
   "nbconvert_exporter": "python",
   "pygments_lexer": "ipython3",
   "version": "3.9.7"
  }
 },
 "nbformat": 4,
 "nbformat_minor": 1
}